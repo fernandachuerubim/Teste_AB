{
 "cells": [
  {
   "cell_type": "markdown",
   "metadata": {},
   "source": [
    "# 0.1. IMPORTS"
   ]
  },
  {
   "cell_type": "code",
   "execution_count": 31,
   "metadata": {},
   "outputs": [],
   "source": [
    "import pandas as pd\n",
    "import numpy as np\n",
    "from statsmodels.stats.gof import chisquare_effectsize\n",
    "from statsmodels.stats.power import TTestIndPower\n",
    "from scipy import stats\n",
    "from itertools import combinations\n",
    "from statsmodels.sandbox.stats.multicomp import multipletests"
   ]
  },
  {
   "cell_type": "markdown",
   "metadata": {},
   "source": [
    "# 1.0. LOADING DATA"
   ]
  },
  {
   "cell_type": "code",
   "execution_count": 2,
   "metadata": {},
   "outputs": [
    {
     "data": {
      "text/html": [
       "<div>\n",
       "<style scoped>\n",
       "    .dataframe tbody tr th:only-of-type {\n",
       "        vertical-align: middle;\n",
       "    }\n",
       "\n",
       "    .dataframe tbody tr th {\n",
       "        vertical-align: top;\n",
       "    }\n",
       "\n",
       "    .dataframe thead th {\n",
       "        text-align: right;\n",
       "    }\n",
       "</style>\n",
       "<table border=\"1\" class=\"dataframe\">\n",
       "  <thead>\n",
       "    <tr style=\"text-align: right;\">\n",
       "      <th></th>\n",
       "      <th>variant</th>\n",
       "      <th>visits</th>\n",
       "      <th>click_all</th>\n",
       "      <th>click_link</th>\n",
       "      <th>conversion</th>\n",
       "    </tr>\n",
       "  </thead>\n",
       "  <tbody>\n",
       "    <tr>\n",
       "      <th>0</th>\n",
       "      <td>interact</td>\n",
       "      <td>10283</td>\n",
       "      <td>3714</td>\n",
       "      <td>42</td>\n",
       "      <td>0.011309</td>\n",
       "    </tr>\n",
       "    <tr>\n",
       "      <th>1</th>\n",
       "      <td>connect</td>\n",
       "      <td>2742</td>\n",
       "      <td>1587</td>\n",
       "      <td>53</td>\n",
       "      <td>0.033396</td>\n",
       "    </tr>\n",
       "    <tr>\n",
       "      <th>2</th>\n",
       "      <td>learn</td>\n",
       "      <td>2747</td>\n",
       "      <td>1652</td>\n",
       "      <td>21</td>\n",
       "      <td>0.012712</td>\n",
       "    </tr>\n",
       "    <tr>\n",
       "      <th>3</th>\n",
       "      <td>help</td>\n",
       "      <td>3180</td>\n",
       "      <td>1717</td>\n",
       "      <td>38</td>\n",
       "      <td>0.022132</td>\n",
       "    </tr>\n",
       "    <tr>\n",
       "      <th>4</th>\n",
       "      <td>services</td>\n",
       "      <td>2064</td>\n",
       "      <td>1348</td>\n",
       "      <td>45</td>\n",
       "      <td>0.033383</td>\n",
       "    </tr>\n",
       "  </tbody>\n",
       "</table>\n",
       "</div>"
      ],
      "text/plain": [
       "    variant  visits  click_all  click_link  conversion\n",
       "0  interact   10283       3714          42    0.011309\n",
       "1   connect    2742       1587          53    0.033396\n",
       "2     learn    2747       1652          21    0.012712\n",
       "3      help    3180       1717          38    0.022132\n",
       "4  services    2064       1348          45    0.033383"
      ]
     },
     "execution_count": 2,
     "metadata": {},
     "output_type": "execute_result"
    }
   ],
   "source": [
    "d= {'variant':['interact','connect', 'learn', 'help', 'services'],\n",
    "    'visits': [10283, 2742, 2747, 3180, 2064],\n",
    "    'click_all': [3714, 1587, 1652, 1717, 1348],\n",
    "    'click_link': [42, 53, 21, 38, 45]}\n",
    "\n",
    "data = pd.DataFrame(d) # está criando um dataframe\n",
    "\n",
    "data['conversion'] = data[\"click_link\"] / data[\"click_all\"]\n",
    "data"
   ]
  },
  {
   "cell_type": "markdown",
   "metadata": {},
   "source": [
    "# 2.0. Design de Experimentos"
   ]
  },
  {
   "cell_type": "markdown",
   "metadata": {},
   "source": [
    "## 2.1. Formulação das hipóteses"
   ]
  },
  {
   "cell_type": "code",
   "execution_count": 3,
   "metadata": {},
   "outputs": [],
   "source": [
    "# H0: Não há nenhuma diferença ente o CTR(Click-Through Rate) das variantes das páginas\n",
    "# H1: Há uma diferença entre o CTR das variantes das páginas\n",
    "#\n",
    "# Test Bi-Caudal"
   ]
  },
  {
   "cell_type": "markdown",
   "metadata": {},
   "source": [
    "## 2.2. Parâmetros do Experimento"
   ]
  },
  {
   "cell_type": "code",
   "execution_count": null,
   "metadata": {},
   "outputs": [],
   "source": [
    "k = len( data['click_link']) # tamanho do dataset da coluna click_link\n",
    "actual_dist = data['click_link'] / data['click_link'].sum() # proporção de visualização de cada página\n",
    "expected_dist = [1 /k] * k # significa que k=5, ou seja, 1/k = 1/5 =0.2, então, cria uma lista que aparece 5vezes o 0.2"
   ]
  },
  {
   "cell_type": "code",
   "execution_count": 8,
   "metadata": {},
   "outputs": [
    {
     "data": {
      "text/plain": [
       "5"
      ]
     },
     "execution_count": 8,
     "metadata": {},
     "output_type": "execute_result"
    }
   ],
   "source": [
    "k"
   ]
  },
  {
   "cell_type": "code",
   "execution_count": 7,
   "metadata": {},
   "outputs": [
    {
     "data": {
      "text/plain": [
       "0    0.211055\n",
       "1    0.266332\n",
       "2    0.105528\n",
       "3    0.190955\n",
       "4    0.226131\n",
       "Name: click_link, dtype: float64"
      ]
     },
     "execution_count": 7,
     "metadata": {},
     "output_type": "execute_result"
    }
   ],
   "source": [
    "actual_dist"
   ]
  },
  {
   "cell_type": "code",
   "execution_count": 9,
   "metadata": {},
   "outputs": [
    {
     "data": {
      "text/plain": [
       "[0.2, 0.2, 0.2, 0.2, 0.2]"
      ]
     },
     "execution_count": 9,
     "metadata": {},
     "output_type": "execute_result"
    }
   ],
   "source": [
    "expected_dist"
   ]
  },
  {
   "cell_type": "code",
   "execution_count": null,
   "metadata": {},
   "outputs": [
    {
     "name": "stdout",
     "output_type": "stream",
     "text": [
      "Minimum Sample Size per Variant: 222\n",
      "Total Sample Size: 1110\n"
     ]
    }
   ],
   "source": [
    "effect_size = chisquare_effectsize( expected_dist, actual_dist) # tamanho do efeito\n",
    "alpha = 0.05 # nivel de significância para rejeitar a hipótese nula\n",
    "power = 0.80 # para aceitar a hipótese nula\n",
    "\n",
    "sample_size = TTestIndPower().solve_power(\n",
    "                effect_size = effect_size,\n",
    "                alpha = alpha,\n",
    "                power = power,\n",
    "            )\n",
    "\n",
    "sample_size = np.ceil(sample_size).astype(int) # o ceil é para fazer o arredondamento\n",
    "print(f'Minimum Sample Size per Variant: {sample_size}')\n",
    "print(f'Total Sample Size: {k*sample_size}')"
   ]
  },
  {
   "cell_type": "markdown",
   "metadata": {},
   "source": [
    "# 3.0. Aplicação do Teste Chi Squared"
   ]
  },
  {
   "cell_type": "code",
   "execution_count": null,
   "metadata": {},
   "outputs": [
    {
     "data": {
      "text/html": [
       "<div>\n",
       "<style scoped>\n",
       "    .dataframe tbody tr th:only-of-type {\n",
       "        vertical-align: middle;\n",
       "    }\n",
       "\n",
       "    .dataframe tbody tr th {\n",
       "        vertical-align: top;\n",
       "    }\n",
       "\n",
       "    .dataframe thead th {\n",
       "        text-align: right;\n",
       "    }\n",
       "</style>\n",
       "<table border=\"1\" class=\"dataframe\">\n",
       "  <thead>\n",
       "    <tr style=\"text-align: right;\">\n",
       "      <th></th>\n",
       "      <th>click_link</th>\n",
       "      <th>no_click_link</th>\n",
       "    </tr>\n",
       "    <tr>\n",
       "      <th>variant</th>\n",
       "      <th></th>\n",
       "      <th></th>\n",
       "    </tr>\n",
       "  </thead>\n",
       "  <tbody>\n",
       "    <tr>\n",
       "      <th>interact</th>\n",
       "      <td>42</td>\n",
       "      <td>3672</td>\n",
       "    </tr>\n",
       "    <tr>\n",
       "      <th>connect</th>\n",
       "      <td>53</td>\n",
       "      <td>1534</td>\n",
       "    </tr>\n",
       "    <tr>\n",
       "      <th>learn</th>\n",
       "      <td>21</td>\n",
       "      <td>1631</td>\n",
       "    </tr>\n",
       "    <tr>\n",
       "      <th>help</th>\n",
       "      <td>38</td>\n",
       "      <td>1679</td>\n",
       "    </tr>\n",
       "    <tr>\n",
       "      <th>services</th>\n",
       "      <td>45</td>\n",
       "      <td>1303</td>\n",
       "    </tr>\n",
       "  </tbody>\n",
       "</table>\n",
       "</div>"
      ],
      "text/plain": [
       "          click_link  no_click_link\n",
       "variant                            \n",
       "interact          42           3672\n",
       "connect           53           1534\n",
       "learn             21           1631\n",
       "help              38           1679\n",
       "services          45           1303"
      ]
     },
     "execution_count": 20,
     "metadata": {},
     "output_type": "execute_result"
    }
   ],
   "source": [
    "data['no_click_link'] = data['click_all'] - data['click_link'] # os links que não teve click\n",
    "\n",
    "df = data[['variant', 'click_link', 'no_click_link']]\n",
    "df = df.set_index('variant') # ta renomeando as linhas com a variável variant\n",
    "df\n"
   ]
  },
  {
   "cell_type": "code",
   "execution_count": 23,
   "metadata": {},
   "outputs": [
    {
     "name": "stdout",
     "output_type": "stream",
     "text": [
      "Chi Squared: 46.33660181942126 - p-value: 2.0959498129984567e-09\n"
     ]
    }
   ],
   "source": [
    "chi2, p_value, dof, ex = stats.chi2_contingency(df)\n",
    "print(f'Chi Squared: {chi2} - p-value: {p_value}')"
   ]
  },
  {
   "cell_type": "markdown",
   "metadata": {},
   "source": [
    "# 4.0. Post-hoc Testing"
   ]
  },
  {
   "cell_type": "code",
   "execution_count": 33,
   "metadata": {},
   "outputs": [],
   "source": [
    "all_combinations = list(combinations(df.index, 2)) # combinação de 2 em 2 da coluna variant\n",
    "\n",
    "p_values = []\n",
    "\n",
    "for comb in all_combinations:\n",
    "    new_df = df[(df.index == comb[0]) | (df.index == comb[1])] # df.index foi criada na parte de cima df = df.set_index('variant')\n",
    "    chi2, p_value, dof, ex = stats.chi2_contingency(new_df)\n",
    "    p_values.append(p_value)\n",
    "    \n",
    "reject_list, correct_p_values = multipletests(p_values, method='bonferroni')[:2]\n",
    "    "
   ]
  },
  {
   "cell_type": "code",
   "execution_count": 34,
   "metadata": {},
   "outputs": [
    {
     "name": "stdout",
     "output_type": "stream",
     "text": [
      "\n",
      "('interact', 'connect'): p_value: 5.3676772349808135e-08; corrected_p_value: 5.367677234980813e-07; reject: True\n",
      "\n",
      "('interact', 'learn'): p_value: 0.7616980743361713; corrected_p_value: 1.0; reject: False\n",
      "\n",
      "('interact', 'help'): p_value: 0.0031030587017400212; corrected_p_value: 0.03103058701740021; reject: True\n",
      "\n",
      "('interact', 'services'): p_value: 1.798089447385411e-07; corrected_p_value: 1.7980894473854111e-06; reject: True\n",
      "\n",
      "('connect', 'learn'): p_value: 0.00013292868361715983; corrected_p_value: 0.0013292868361715984; reject: True\n",
      "\n",
      "('connect', 'help'): p_value: 0.06144184057612575; corrected_p_value: 0.6144184057612575; reject: False\n",
      "\n",
      "('connect', 'services'): p_value: 1.0; corrected_p_value: 1.0; reject: False\n",
      "\n",
      "('learn', 'help'): p_value: 0.0508958228881819; corrected_p_value: 0.5089582288818191; reject: False\n",
      "\n",
      "('learn', 'services'): p_value: 0.00020374035733741825; corrected_p_value: 0.0020374035733741825; reject: True\n",
      "\n",
      "('help', 'services'): p_value: 0.07301998638337415; corrected_p_value: 0.7301998638337415; reject: False\n"
     ]
    }
   ],
   "source": [
    "for comb, p_val, corr_p_val, reject in zip(all_combinations, p_values, correct_p_values, reject_list):\n",
    "    print(f'\\n{comb}: p_value: {p_val}; corrected_p_value: {corr_p_val}; reject: {reject}')"
   ]
  },
  {
   "cell_type": "code",
   "execution_count": 35,
   "metadata": {},
   "outputs": [],
   "source": [
    "# Interact x Connect -> Há uma diferença, dependência -> p_value = 5.367677234980813e-07\n",
    "# Interact x Services -> Há uma diferença, dependência -> p_value = 1.7980894473854111e-06\n",
    "# Interact x Help -> Há uma diferença, dependência -> p_value = 0.03103058701740021\n",
    "\n",
    "# Connect x Services -> Não há uma diferença\n",
    "# Connect x Help -> Não há uma diferença\n",
    "# Help x Services -> Não há uma diferença"
   ]
  }
 ],
 "metadata": {
  "kernelspec": {
   "display_name": ".venv",
   "language": "python",
   "name": "python3"
  },
  "language_info": {
   "codemirror_mode": {
    "name": "ipython",
    "version": 3
   },
   "file_extension": ".py",
   "mimetype": "text/x-python",
   "name": "python",
   "nbconvert_exporter": "python",
   "pygments_lexer": "ipython3",
   "version": "3.12.8"
  }
 },
 "nbformat": 4,
 "nbformat_minor": 2
}
