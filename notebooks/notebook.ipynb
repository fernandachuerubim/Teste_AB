{
 "cells": [
  {
   "cell_type": "markdown",
   "metadata": {},
   "source": [
    "# 0.1. IMPORTS"
   ]
  },
  {
   "cell_type": "code",
   "execution_count": 1,
   "metadata": {},
   "outputs": [],
   "source": [
    "import pandas as pd\n",
    "from statsmodels.stats import api as sms\n",
    "import math\n",
    "from scipy.stats import ttest_1samp, shapiro, ttest_ind, mannwhitneyu, f_oneway\n",
    "import numpy as np\n",
    "import seaborn as sns\n",
    "from statsmodels.stats.multicomp import pairwise_tukeyhsd\n",
    "from scipy.stats import chi2_contingency"
   ]
  },
  {
   "cell_type": "markdown",
   "metadata": {},
   "source": [
    "# 1.0. LOADING DATA"
   ]
  },
  {
   "cell_type": "code",
   "execution_count": 2,
   "metadata": {},
   "outputs": [
    {
     "data": {
      "text/html": [
       "<div>\n",
       "<style scoped>\n",
       "    .dataframe tbody tr th:only-of-type {\n",
       "        vertical-align: middle;\n",
       "    }\n",
       "\n",
       "    .dataframe tbody tr th {\n",
       "        vertical-align: top;\n",
       "    }\n",
       "\n",
       "    .dataframe thead th {\n",
       "        text-align: right;\n",
       "    }\n",
       "</style>\n",
       "<table border=\"1\" class=\"dataframe\">\n",
       "  <thead>\n",
       "    <tr style=\"text-align: right;\">\n",
       "      <th></th>\n",
       "      <th>user_id</th>\n",
       "      <th>timestamp</th>\n",
       "      <th>group</th>\n",
       "      <th>landing_page</th>\n",
       "      <th>converted</th>\n",
       "    </tr>\n",
       "  </thead>\n",
       "  <tbody>\n",
       "    <tr>\n",
       "      <th>0</th>\n",
       "      <td>851104</td>\n",
       "      <td>2017-01-21 22:11:48.556739</td>\n",
       "      <td>control</td>\n",
       "      <td>old_page</td>\n",
       "      <td>0</td>\n",
       "    </tr>\n",
       "    <tr>\n",
       "      <th>1</th>\n",
       "      <td>804228</td>\n",
       "      <td>2017-01-12 08:01:45.159739</td>\n",
       "      <td>control</td>\n",
       "      <td>old_page</td>\n",
       "      <td>0</td>\n",
       "    </tr>\n",
       "    <tr>\n",
       "      <th>2</th>\n",
       "      <td>661590</td>\n",
       "      <td>2017-01-11 16:55:06.154213</td>\n",
       "      <td>treatment</td>\n",
       "      <td>new_page</td>\n",
       "      <td>0</td>\n",
       "    </tr>\n",
       "    <tr>\n",
       "      <th>3</th>\n",
       "      <td>853541</td>\n",
       "      <td>2017-01-08 18:28:03.143765</td>\n",
       "      <td>treatment</td>\n",
       "      <td>new_page</td>\n",
       "      <td>0</td>\n",
       "    </tr>\n",
       "    <tr>\n",
       "      <th>4</th>\n",
       "      <td>864975</td>\n",
       "      <td>2017-01-21 01:52:26.210827</td>\n",
       "      <td>control</td>\n",
       "      <td>old_page</td>\n",
       "      <td>1</td>\n",
       "    </tr>\n",
       "    <tr>\n",
       "      <th>...</th>\n",
       "      <td>...</td>\n",
       "      <td>...</td>\n",
       "      <td>...</td>\n",
       "      <td>...</td>\n",
       "      <td>...</td>\n",
       "    </tr>\n",
       "    <tr>\n",
       "      <th>294473</th>\n",
       "      <td>751197</td>\n",
       "      <td>2017-01-03 22:28:38.630509</td>\n",
       "      <td>control</td>\n",
       "      <td>old_page</td>\n",
       "      <td>0</td>\n",
       "    </tr>\n",
       "    <tr>\n",
       "      <th>294474</th>\n",
       "      <td>945152</td>\n",
       "      <td>2017-01-12 00:51:57.078372</td>\n",
       "      <td>control</td>\n",
       "      <td>old_page</td>\n",
       "      <td>0</td>\n",
       "    </tr>\n",
       "    <tr>\n",
       "      <th>294475</th>\n",
       "      <td>734608</td>\n",
       "      <td>2017-01-22 11:45:03.439544</td>\n",
       "      <td>control</td>\n",
       "      <td>old_page</td>\n",
       "      <td>0</td>\n",
       "    </tr>\n",
       "    <tr>\n",
       "      <th>294476</th>\n",
       "      <td>697314</td>\n",
       "      <td>2017-01-15 01:20:28.957438</td>\n",
       "      <td>control</td>\n",
       "      <td>old_page</td>\n",
       "      <td>0</td>\n",
       "    </tr>\n",
       "    <tr>\n",
       "      <th>294477</th>\n",
       "      <td>715931</td>\n",
       "      <td>2017-01-16 12:40:24.467417</td>\n",
       "      <td>treatment</td>\n",
       "      <td>new_page</td>\n",
       "      <td>0</td>\n",
       "    </tr>\n",
       "  </tbody>\n",
       "</table>\n",
       "<p>294478 rows × 5 columns</p>\n",
       "</div>"
      ],
      "text/plain": [
       "        user_id                   timestamp      group landing_page  converted\n",
       "0        851104  2017-01-21 22:11:48.556739    control     old_page          0\n",
       "1        804228  2017-01-12 08:01:45.159739    control     old_page          0\n",
       "2        661590  2017-01-11 16:55:06.154213  treatment     new_page          0\n",
       "3        853541  2017-01-08 18:28:03.143765  treatment     new_page          0\n",
       "4        864975  2017-01-21 01:52:26.210827    control     old_page          1\n",
       "...         ...                         ...        ...          ...        ...\n",
       "294473   751197  2017-01-03 22:28:38.630509    control     old_page          0\n",
       "294474   945152  2017-01-12 00:51:57.078372    control     old_page          0\n",
       "294475   734608  2017-01-22 11:45:03.439544    control     old_page          0\n",
       "294476   697314  2017-01-15 01:20:28.957438    control     old_page          0\n",
       "294477   715931  2017-01-16 12:40:24.467417  treatment     new_page          0\n",
       "\n",
       "[294478 rows x 5 columns]"
      ]
     },
     "execution_count": 2,
     "metadata": {},
     "output_type": "execute_result"
    }
   ],
   "source": [
    "df = pd.read_csv(r\"C:\\Users\\Admin\\Downloads\\projeto_teste_AB\\dataset\\ab_data.csv\") # r serve para abrir a pasta no windows\n",
    "df"
   ]
  },
  {
   "cell_type": "markdown",
   "metadata": {},
   "source": [
    "# 2.0. DESIGN DE EXPERIMENTS"
   ]
  },
  {
   "cell_type": "markdown",
   "metadata": {},
   "source": [
    "## 2.1. PARAMETER OF EXPERIMENTS"
   ]
  },
  {
   "cell_type": "code",
   "execution_count": 3,
   "metadata": {},
   "outputs": [
    {
     "data": {
      "text/plain": [
       "4720"
      ]
     },
     "execution_count": 3,
     "metadata": {},
     "output_type": "execute_result"
    }
   ],
   "source": [
    "# Nível de Confiança\n",
    "confidence_level = 0.95\n",
    "\n",
    "# Nível de Significância\n",
    "significance_level = (1 - confidence_level)\n",
    "\n",
    "# Conversões da página atual e nova\n",
    "p1 = 0.13\n",
    "p2 = 0.15\n",
    "\n",
    "# Tamanho do efeito\n",
    "effect_size = sms.proportion_effectsize(p1, p2)\n",
    "\n",
    "# Poder Estatístico\n",
    "power = 0.80\n",
    "\n",
    "# Tamanho da amostra\n",
    "sample_n = sms.NormalIndPower().solve_power(\n",
    "    effect_size,\n",
    "    power = power,\n",
    "    alpha = significance_level\n",
    ")\n",
    "\n",
    "sample_n = math.ceil(sample_n) # tira as casas decimais depois do ponto\n",
    "sample_n"
   ]
  },
  {
   "cell_type": "code",
   "execution_count": 4,
   "metadata": {},
   "outputs": [
    {
     "name": "stdout",
     "output_type": "stream",
     "text": [
      "Size of Control group: 4720\n",
      "Size of Control group: 4720\n",
      "\n",
      "Conversion Rate - Control Group: 0.118644\n",
      "Conversion Rate - Treatment Group: 0.119703\n",
      "p-value: 0.91\n",
      "Falha em rejeitar a hipótese nula\n"
     ]
    }
   ],
   "source": [
    "# Preparar os dados\n",
    "df_aux = df[[\"user_id\", \"group\"]].groupby(\"user_id\").count().reset_index().query(\"group > 1\")\n",
    "df3 = df[~df['user_id'].isin(df_aux['user_id'])] # o ~ significa que é negativo está removendo os usuários e o isin filtra dataframe\n",
    "\n",
    "# Amostragem\n",
    "df_control_sample = df3[df3[\"group\"] == \"control\"].sample(n = sample_n, random_state=32)\n",
    "print(f'Size of Control group: {df_control_sample.shape[0]}') # shape é para mostrar a quantidade de linhas e colunas\n",
    "\n",
    "df_treatment_sample = df3[df3[\"group\"] == \"treatment\"].sample(n = sample_n, random_state=32)\n",
    "print(f'Size of Control group: {df_treatment_sample.shape[0]}') # shape é para mostrar a quantidade de linhas e colunas\n",
    "\n",
    "df_ab = pd.concat([df_control_sample, df_treatment_sample])\n",
    "\n",
    "# Taxa de Conversão\n",
    "converted = df_control_sample.loc[df_control_sample[\"converted\"] == 1, \"converted\"].sum()\n",
    "conversion_rate_control = converted / len(df_control_sample)\n",
    "print(f'\\nConversion Rate - Control Group: {conversion_rate_control:.6f}')\n",
    "\n",
    "converted = df_treatment_sample.loc[df_treatment_sample['converted'] == 1, 'converted'].sum()\n",
    "conversion_rate_treatment = converted / len(df_treatment_sample)\n",
    "print(f'Conversion Rate - Treatment Group: {conversion_rate_treatment:.6f}')\n",
    "\n",
    "# Teste de Hipóteses\n",
    "df_table = df_ab[[\"group\", \"converted\"]].groupby(\"group\").agg({'converted':['sum', 'count']}) # nesse caso o nome da coluna é \"converted\" e o agg cria duas colunas \"sum\" \"count\"\n",
    "df_table.columns = ['converted', 'non_converted'] # está renomeando as colunas\n",
    "\n",
    "df_table = df_ab[['group', 'converted']].groupby('group').agg({'converted' :['sum', 'count']})\n",
    "df_table.columns = ['converted', 'non_converted']\n",
    "\n",
    "chi_val, pval, dof, expected = chi2_contingency(df_table)\n",
    "\n",
    "print(f'p-value: {pval:.2f}')\n",
    "\n",
    "if pval < significance_level:\n",
    "    print('Rejeita a hipóteses nula')\n",
    "else:\n",
    "    print('Falha em rejeitar a hipótese nula')"
   ]
  },
  {
   "cell_type": "code",
   "execution_count": 5,
   "metadata": {},
   "outputs": [
    {
     "data": {
      "text/plain": [
       "(4720, 5)"
      ]
     },
     "execution_count": 5,
     "metadata": {},
     "output_type": "execute_result"
    }
   ],
   "source": [
    "df_control_sample.shape"
   ]
  },
  {
   "cell_type": "markdown",
   "metadata": {},
   "source": [
    "# 3.0. Conversão da página em faturamento"
   ]
  },
  {
   "cell_type": "code",
   "execution_count": 6,
   "metadata": {},
   "outputs": [],
   "source": [
    "#conversão de resultado para R$\n",
    "pagina_atual = 13 / 100\n",
    "pagina_nova = 15 / 100\n",
    "\n",
    "#Media de visitantes diários * taxa de conversão da pagina atual = compradores\n",
    "#Compradores * tick medio = faturamento (GMV - Gross margin Value)"
   ]
  },
  {
   "cell_type": "code",
   "execution_count": null,
   "metadata": {},
   "outputs": [],
   "source": [
    "df4 = df3.copy()\n",
    "\n",
    "df4['timestamp'] = pd.to_datetime(df4['timestamp']).apply(lambda x: x.strftime('%Y-%m-%d')) # está convertendo para datetime"
   ]
  },
  {
   "cell_type": "code",
   "execution_count": null,
   "metadata": {},
   "outputs": [
    {
     "name": "stdout",
     "output_type": "stream",
     "text": [
      "GMV On Period: 167760000\n",
      "New GMV On Period: 193563000\n",
      "Abs lift: 25803000\n",
      "Expected Lift: 15.38%\n"
     ]
    }
   ],
   "source": [
    "df5 = df4[[\"user_id\", \"timestamp\"]].groupby(\"timestamp\").count().reset_index()\n",
    "\n",
    "# Current GMV gross Margin value\n",
    "df5['current_purchases'] = np.ceil(df5[\"user_id\"] * pagina_atual).astype(int) # ceil está arredondando, esse é a página atual\n",
    "\n",
    "df5['current_GMV'] = df5['current_purchases'] * 4500\n",
    "\n",
    "current_gmv = df5['current_GMV'].sum()\n",
    "print(f'GMV On Period: {current_gmv}')\n",
    "\n",
    "# Expected GMV\n",
    "df5['new_purchases'] = np.ceil(df5['user_id'] * pagina_nova).astype(int) # esse é a página nova\n",
    "df5['new_GMV'] = df5['new_purchases'] * 4500\n",
    "\n",
    "new_gmv = df5['new_GMV'].sum()\n",
    "print(f'New GMV On Period: {new_gmv}')\n",
    "\n",
    "lift_abs = new_gmv - current_gmv # diferença entre a nova página e a página atual\n",
    "print(f'Abs lift: {lift_abs}')\n",
    "\n",
    "lift = 100 * (new_gmv - current_gmv) / current_gmv # percentual de ganho a mais para a nova página\n",
    "print(f'Expected Lift: {lift:.2f}%') \n"
   ]
  }
 ],
 "metadata": {
  "kernelspec": {
   "display_name": ".venv",
   "language": "python",
   "name": "python3"
  },
  "language_info": {
   "codemirror_mode": {
    "name": "ipython",
    "version": 3
   },
   "file_extension": ".py",
   "mimetype": "text/x-python",
   "name": "python",
   "nbconvert_exporter": "python",
   "pygments_lexer": "ipython3",
   "version": "3.12.8"
  }
 },
 "nbformat": 4,
 "nbformat_minor": 2
}
